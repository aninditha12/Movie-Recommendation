{
 "cells": [
  {
   "cell_type": "code",
   "execution_count": 26,
   "metadata": {},
   "outputs": [
    {
     "name": "stdout",
     "output_type": "stream",
     "text": [
      "Collecting kmodes\n",
      "  Downloading https://files.pythonhosted.org/packages/79/c0/f7d8a0eb41ac6f302b4bc100f91b6e0f2558425ccfefaa0ec0430f77ee97/kmodes-0.10.1-py2.py3-none-any.whl\n",
      "Requirement already satisfied: scipy>=0.13.3 in c:\\users\\sanjana moudgalya\\anaconda3\\lib\\site-packages (from kmodes) (1.2.1)\n",
      "Requirement already satisfied: joblib>=0.11 in c:\\users\\sanjana moudgalya\\anaconda3\\lib\\site-packages (from kmodes) (0.13.2)\n",
      "Requirement already satisfied: numpy>=1.10.4 in c:\\users\\sanjana moudgalya\\anaconda3\\lib\\site-packages (from kmodes) (1.16.4)\n",
      "Requirement already satisfied: scikit-learn>=0.19.0 in c:\\users\\sanjana moudgalya\\anaconda3\\lib\\site-packages (from kmodes) (0.21.2)\n",
      "Installing collected packages: kmodes\n",
      "Successfully installed kmodes-0.10.1\n"
     ]
    }
   ],
   "source": [
    "!pip install kmodes"
   ]
  },
  {
   "cell_type": "code",
   "execution_count": 1,
   "metadata": {},
   "outputs": [],
   "source": [
    "#import the required libraries.\n",
    "import pandas as pd\n",
    "import numpy as np\n",
    "import matplotlib.pyplot as plt\n",
    "from numpy import nanmedian\n",
    "import random"
   ]
  },
  {
   "cell_type": "code",
   "execution_count": 2,
   "metadata": {},
   "outputs": [],
   "source": [
    "df = pd.read_csv(\"responses.csv\")"
   ]
  },
  {
   "cell_type": "code",
   "execution_count": 3,
   "metadata": {},
   "outputs": [],
   "source": [
    "#fill the nan values using the medians\n",
    "df = df.groupby(df.columns, axis = 1).transform(lambda x: x.fillna(x.median()))"
   ]
  },
  {
   "cell_type": "code",
   "execution_count": 4,
   "metadata": {},
   "outputs": [
    {
     "name": "stdout",
     "output_type": "stream",
     "text": [
      "{'Smoking': 8, 'Alcohol': 5, 'Punctuality': 2, 'Lying': 2, 'Achievements': 2, 'Gender': 6, 'Left - right handed': 3, 'Education': 1, 'Only child': 2, 'Village - town': 4, 'House - block of flats': 4}\n"
     ]
    }
   ],
   "source": [
    "def nancount(x):\n",
    "    count=0\n",
    "    a=df[x].isnull()\n",
    "    for val in a:\n",
    "        if(val == True):\n",
    "            count+=1\n",
    "    return count\n",
    "    \n",
    "counts={}\n",
    "for i in df.columns:\n",
    "    returnval=nancount(i)\n",
    "    if(returnval!=0):\n",
    "        counts[i]=nancount(i)\n",
    "print(counts)"
   ]
  },
  {
   "cell_type": "code",
   "execution_count": 5,
   "metadata": {},
   "outputs": [],
   "source": [
    "def replace(col):\n",
    "    #find the unique values\n",
    "    un=pd.unique(df[col])\n",
    "    j=1\n",
    "    #dictionary used to map the categorical variables\n",
    "    dict_1={}\n",
    "    for i in un[:-1]:\n",
    "        dict_1[i]=j\n",
    "        j+=1\n",
    "    # un[-1] has nan in it. Hence that must have a value of zero initially\n",
    "    dict_1[un[-1]]=0   \n",
    "    #print(dict_1)\n",
    "    x=[]\n",
    "    #list containing the integer values of the categorical variales\n",
    "    for index,row in df[col].iteritems():\n",
    "        x.append((dict_1[row])) \n",
    "    med=np.median(x)\n",
    "    #the zero valued rows are replaced with the median\n",
    "    for i in range (0,len(x)):\n",
    "        if(x[i]==0):\n",
    "            x[i]=int(med)\n",
    "    # assign it to the dataframe\n",
    "    df[col]=x\n",
    "    \n",
    "NaN_Col=['Smoking','Alcohol','Punctuality','Lying','Education']\n",
    "for i in NaN_Col:\n",
    "    replace(i)"
   ]
  },
  {
   "cell_type": "code",
   "execution_count": 6,
   "metadata": {},
   "outputs": [
    {
     "name": "stdout",
     "output_type": "stream",
     "text": [
      "0       1\n",
      "1       1\n",
      "2       1\n",
      "3       2\n",
      "4       1\n",
      "5       1\n",
      "6       3\n",
      "7       1\n",
      "8       1\n",
      "9       1\n",
      "10      3\n",
      "11      1\n",
      "12      1\n",
      "13      1\n",
      "14      2\n",
      "15      1\n",
      "16      1\n",
      "17      1\n",
      "18      1\n",
      "19      1\n",
      "20      1\n",
      "21      1\n",
      "22      1\n",
      "23      1\n",
      "24      1\n",
      "25      1\n",
      "26      1\n",
      "27      1\n",
      "28      1\n",
      "29      1\n",
      "       ..\n",
      "980     3\n",
      "981     2\n",
      "982     1\n",
      "983     1\n",
      "984     2\n",
      "985     1\n",
      "986     1\n",
      "987     1\n",
      "988     1\n",
      "989     2\n",
      "990     1\n",
      "991     2\n",
      "992     2\n",
      "993     1\n",
      "994     1\n",
      "995     1\n",
      "996     1\n",
      "997     3\n",
      "998     1\n",
      "999     1\n",
      "1000    1\n",
      "1001    1\n",
      "1002    1\n",
      "1003    1\n",
      "1004    1\n",
      "1005    1\n",
      "1006    3\n",
      "1007    2\n",
      "1008    2\n",
      "1009    1\n",
      "Name: Internet usage, Length: 1010, dtype: int64\n"
     ]
    }
   ],
   "source": [
    "def replace2(col):\n",
    "    #find the unique values\n",
    "    un=pd.unique(df[col])\n",
    "    j=1\n",
    "    #dictionary used to map the categorical variables\n",
    "    dict_1={}\n",
    "    for i in un:\n",
    "        dict_1[i]=j\n",
    "        j+=1  \n",
    "    #print(dict_1)\n",
    "    x=[]\n",
    "    #list containing the integer values of the categorical variales\n",
    "    for index,row in df[col].iteritems():\n",
    "        x.append((dict_1[row])) \n",
    "    # assign it to the dataframe\n",
    "    df[col]=x\n",
    "    \n",
    "replace2('Internet usage')\n",
    "print(df['Internet usage'])"
   ]
  },
  {
   "cell_type": "code",
   "execution_count": 7,
   "metadata": {},
   "outputs": [
    {
     "name": "stdout",
     "output_type": "stream",
     "text": [
      "{'Achievements': 2, 'Gender': 6, 'Left - right handed': 3, 'Only child': 2, 'Village - town': 4, 'House - block of flats': 4}\n"
     ]
    }
   ],
   "source": [
    "def nancount(x):\n",
    "    count=0\n",
    "    a=df[x].isnull()\n",
    "    for val in a:\n",
    "        if(val == True):\n",
    "            count+=1\n",
    "    return count\n",
    "    \n",
    "counts={}\n",
    "for i in df.columns:\n",
    "    returnval=nancount(i)\n",
    "    if(returnval!=0):\n",
    "        counts[i]=nancount(i)\n",
    "print(counts)"
   ]
  },
  {
   "cell_type": "code",
   "execution_count": 8,
   "metadata": {},
   "outputs": [
    {
     "name": "stdout",
     "output_type": "stream",
     "text": [
      "female    593\n",
      "male      411\n",
      "Name: Gender, dtype: int64\n",
      "59.06374501992032 40.93625498007968\n"
     ]
    },
    {
     "data": {
      "image/png": "[encoded data removed]",
      "text/plain": [
       "<Figure size 432x288 with 1 Axes>"
      ]
     },
     "metadata": {},
     "output_type": "display_data"
    }
   ],
   "source": [
    "valcount=df.Gender.value_counts()\n",
    "print(valcount)\n",
    "noperc=(valcount['female']/(valcount['male']+valcount['female']))*100\n",
    "yesperc=(valcount['male']/(valcount['male']+valcount['female']))*100\n",
    "print(noperc,yesperc)\n",
    "\n",
    "plt.pie(valcount,labels=['female','male'], autopct='%1.0f%%')\n",
    "plt.show()"
   ]
  },
  {
   "cell_type": "code",
   "execution_count": 9,
   "metadata": {},
   "outputs": [
    {
     "name": "stderr",
     "output_type": "stream",
     "text": [
      "C:\\Users\\Sanjana moudgalya\\Anaconda3\\lib\\site-packages\\pandas\\core\\indexing.py:190: SettingWithCopyWarning: \n",
      "A value is trying to be set on a copy of a slice from a DataFrame\n",
      "\n",
      "See the caveats in the documentation: http://pandas.pydata.org/pandas-docs/stable/indexing.html#indexing-view-versus-copy\n",
      "  self._setitem_with_indexer(indexer, value)\n"
     ]
    }
   ],
   "source": [
    "for index,row in df.Gender.iteritems():\n",
    "    if(isinstance(row,float)):\n",
    "        x=random.randint(1,100)\n",
    "        if (x>=1 and x<=60):\n",
    "            df.Gender.loc[index]='female'\n",
    "        else:\n",
    "            df.Gender.loc[index]='male'"
   ]
  },
  {
   "cell_type": "code",
   "execution_count": 10,
   "metadata": {},
   "outputs": [
    {
     "name": "stdout",
     "output_type": "stream",
     "text": [
      "89.97020854021847 10.02979145978153\n"
     ]
    },
    {
     "data": {
      "image/png": "[encoded data removed]",
      "text/plain": [
       "<Figure size 432x288 with 1 Axes>"
      ]
     },
     "metadata": {},
     "output_type": "display_data"
    }
   ],
   "source": [
    "valcount=df['Left - right handed'].value_counts()\n",
    "noperc=(valcount['right handed']/(valcount['right handed']+valcount['left handed']))*100\n",
    "yesperc=(valcount['left handed']/(valcount['right handed']+valcount['left handed']))*100\n",
    "print(noperc,yesperc)\n",
    "\n",
    "plt.pie(valcount,labels=['right handed','left handed'], autopct='%1.0f%%')\n",
    "plt.show()"
   ]
  },
  {
   "cell_type": "code",
   "execution_count": 11,
   "metadata": {},
   "outputs": [],
   "source": [
    "for index,row in df['Left - right handed'].iteritems():\n",
    "    if(isinstance(row,float)):\n",
    "        x=random.randint(1,100)\n",
    "        if (x>=1 and x<=90):\n",
    "            df['Left - right handed'].loc[index]='right handed'\n",
    "        else:\n",
    "            df['Left - right handed'].loc[index]='left handed'"
   ]
  },
  {
   "cell_type": "code",
   "execution_count": 12,
   "metadata": {},
   "outputs": [
    {
     "name": "stdout",
     "output_type": "stream",
     "text": [
      "74.8015873015873 25.198412698412696\n"
     ]
    },
    {
     "data": {
      "image/png": "[encoded data removed]",
      "text/plain": [
       "<Figure size 432x288 with 1 Axes>"
      ]
     },
     "metadata": {},
     "output_type": "display_data"
    }
   ],
   "source": [
    "valcount=df['Only child'].value_counts()\n",
    "noperc=(valcount['no']/(valcount['yes']+valcount['no']))*100\n",
    "yesperc=(valcount['yes']/(valcount['yes']+valcount['no']))*100\n",
    "print(noperc,yesperc)\n",
    "\n",
    "plt.pie(valcount,labels=['no','yes'], autopct='%1.0f%%')\n",
    "plt.show()"
   ]
  },
  {
   "cell_type": "code",
   "execution_count": 13,
   "metadata": {},
   "outputs": [],
   "source": [
    "for index,row in df['Only child'].iteritems():\n",
    "    if(isinstance(row,float)):\n",
    "        x=random.randint(1,100)\n",
    "        if (x>=1 and x<=75):\n",
    "            df['Only child'].loc[index]='no'\n",
    "        else:\n",
    "            df['Only child'].loc[index]='yes'"
   ]
  },
  {
   "cell_type": "code",
   "execution_count": 14,
   "metadata": {},
   "outputs": [
    {
     "name": "stdout",
     "output_type": "stream",
     "text": [
      "29.721669980119287 70.27833001988071\n"
     ]
    },
    {
     "data": {
      "image/png": "[encoded data removed]",
      "text/plain": [
       "<Figure size 432x288 with 1 Axes>"
      ]
     },
     "metadata": {},
     "output_type": "display_data"
    }
   ],
   "source": [
    "valcount=df['Village - town'].value_counts()\n",
    "noperc=(valcount['village']/(valcount['village']+valcount['city']))*100\n",
    "yesperc=(valcount['city']/(valcount['village']+valcount['city']))*100\n",
    "print(noperc,yesperc)\n",
    "\n",
    "plt.pie(valcount,labels=['City','Village'], autopct='%1.0f%%')\n",
    "plt.show()"
   ]
  },
  {
   "cell_type": "code",
   "execution_count": 15,
   "metadata": {},
   "outputs": [],
   "source": [
    "for index,row in df['Village - town'].iteritems():\n",
    "    if(isinstance(row,float)):\n",
    "        x=random.randint(1,100)\n",
    "        if (x>=1 and x<=70):\n",
    "            df['Village - town'].loc[index]='city'\n",
    "        else:\n",
    "            df['Village - town'].loc[index]='village'"
   ]
  },
  {
   "cell_type": "code",
   "execution_count": 16,
   "metadata": {},
   "outputs": [
    {
     "name": "stdout",
     "output_type": "stream",
     "text": [
      "40.85487077534791 59.14512922465208\n"
     ]
    },
    {
     "data": {
      "image/png": "[encoded data removed]",
      "text/plain": [
       "<Figure size 432x288 with 1 Axes>"
      ]
     },
     "metadata": {},
     "output_type": "display_data"
    }
   ],
   "source": [
    "valcount=df['House - block of flats'].value_counts()\n",
    "noperc=(valcount['house/bungalow']/(valcount['house/bungalow']+valcount['block of flats']))*100\n",
    "yesperc=(valcount['block of flats']/(valcount['house/bungalow']+valcount['block of flats']))*100\n",
    "print(noperc,yesperc)\n",
    "\n",
    "plt.pie(valcount,labels=['Flat','House'], autopct='%1.0f%%')\n",
    "plt.show()"
   ]
  },
  {
   "cell_type": "code",
   "execution_count": 17,
   "metadata": {},
   "outputs": [],
   "source": [
    "for index,row in df['House - block of flats'].iteritems():\n",
    "    if(isinstance(row,float)):\n",
    "        x=random.randint(1,100)\n",
    "        if (x>=1 and x<=60):\n",
    "            df['House - block of flats'].loc[index]='block of flats'\n",
    "        else:\n",
    "            df['House - block of flats'].loc[index]='house/bungalow'"
   ]
  },
  {
   "cell_type": "code",
   "execution_count": 18,
   "metadata": {},
   "outputs": [
    {
     "name": "stdout",
     "output_type": "stream",
     "text": [
      "{'Achievements': 2}\n"
     ]
    }
   ],
   "source": [
    "def nancount(x):\n",
    "    count=0\n",
    "    a=df[x].isnull()\n",
    "    for val in a:\n",
    "        if(val == True):\n",
    "            count+=1\n",
    "    return count\n",
    "    \n",
    "counts={}\n",
    "for i in df.columns:\n",
    "    returnval=nancount(i)\n",
    "    if(returnval!=0):\n",
    "        counts[i]=nancount(i)\n",
    "print(counts)"
   ]
  },
  {
   "cell_type": "code",
   "execution_count": 19,
   "metadata": {},
   "outputs": [
    {
     "name": "stdout",
     "output_type": "stream",
     "text": [
      "{'female': 1, 'male': 2}\n",
      "{'right handed': 1, 'left handed': 2}\n",
      "{'no': 1, 'yes': 2}\n",
      "{'village': 1, 'city': 2}\n",
      "{'block of flats': 1, 'house/bungalow': 2}\n"
     ]
    }
   ],
   "source": [
    "# replacing 1 and 2 for binary variables\n",
    "def replace1(col):\n",
    "    un=pd.unique(df[col])\n",
    "    j=1\n",
    "    dict_1={}\n",
    "    dict_2={}\n",
    "    for i in un:\n",
    "        dict_1[i]=j\n",
    "        j+=1  \n",
    "    print(dict_1)\n",
    "    x=[]\n",
    "    for index,row in df[col].iteritems():\n",
    "        x.append((dict_1[row])) \n",
    "    df[col]=x\n",
    "    \n",
    "NaN_Col=['Gender', 'Left - right handed', 'Only child', 'Village - town', 'House - block of flats']\n",
    "for i in NaN_Col:\n",
    "    replace1(i)"
   ]
  },
  {
   "cell_type": "code",
   "execution_count": 20,
   "metadata": {},
   "outputs": [],
   "source": [
    "df = df.groupby(df.columns, axis = 1).transform(lambda x: x.fillna(x.median()))"
   ]
  },
  {
   "cell_type": "code",
   "execution_count": 21,
   "metadata": {},
   "outputs": [
    {
     "name": "stderr",
     "output_type": "stream",
     "text": [
      "C:\\Users\\Sanjana moudgalya\\Anaconda3\\lib\\site-packages\\pandas\\core\\indexing.py:190: SettingWithCopyWarning: \n",
      "A value is trying to be set on a copy of a slice from a DataFrame\n",
      "\n",
      "See the caveats in the documentation: http://pandas.pydata.org/pandas-docs/stable/indexing.html#indexing-view-versus-copy\n",
      "  self._setitem_with_indexer(indexer, value)\n"
     ]
    }
   ],
   "source": [
    "med1=np.nanmedian(df.Achievements)\n",
    "for index,row in df.Achievements.iteritems():\n",
    "    a=df.Achievements.isnull()\n",
    "    for val in a:\n",
    "        if(val == True):\n",
    "            df.Achievements.loc[index]=med1           "
   ]
  },
  {
   "cell_type": "code",
   "execution_count": 22,
   "metadata": {},
   "outputs": [
    {
     "name": "stdout",
     "output_type": "stream",
     "text": [
      "{}\n"
     ]
    }
   ],
   "source": [
    "def nancount(x):\n",
    "    count=0\n",
    "    a=df[x].isnull()\n",
    "    for val in a:\n",
    "        if(val == True):\n",
    "            count+=1\n",
    "    return count\n",
    "    \n",
    "counts={}\n",
    "for i in df.columns:\n",
    "    returnval=nancount(i)\n",
    "    if(returnval!=0):\n",
    "        counts[i]=nancount(i)\n",
    "print(counts)"
   ]
  },
  {
   "cell_type": "code",
   "execution_count": 23,
   "metadata": {},
   "outputs": [],
   "source": [
    "#converting pound to kg as outliers is in pound (kg does not make sense)\n",
    "for index,row in df.Weight.iteritems():\n",
    "    if(row>=100):\n",
    "        df.Weight.loc[index]=row*0.454"
   ]
  },
  {
   "cell_type": "code",
   "execution_count": 24,
   "metadata": {},
   "outputs": [],
   "source": [
    "#converting inch to cm as 60cm is not possible for a human\n",
    "for index,row in df.Height.iteritems():\n",
    "    if(row<=130):\n",
    "        df.Height.loc[index]=row*2.54   "
   ]
  },
  {
   "cell_type": "code",
   "execution_count": 27,
   "metadata": {},
   "outputs": [
    {
     "name": "stdout",
     "output_type": "stream",
     "text": [
      "Init: initializing centroids\n",
      "Init: initializing clusters\n",
      "Starting iterations...\n",
      "Run 1, iteration: 1/100, moves: 52, cost: 866.0\n",
      "Run 1, iteration: 2/100, moves: 0, cost: 866.0\n",
      "Init: initializing centroids\n",
      "Init: initializing clusters\n",
      "Starting iterations...\n",
      "Run 2, iteration: 1/100, moves: 21, cost: 879.0\n",
      "Run 2, iteration: 2/100, moves: 0, cost: 879.0\n",
      "Init: initializing centroids\n",
      "Init: initializing clusters\n",
      "Starting iterations...\n",
      "Run 3, iteration: 1/100, moves: 16, cost: 971.0\n",
      "Run 3, iteration: 2/100, moves: 0, cost: 971.0\n",
      "Init: initializing centroids\n",
      "Init: initializing clusters\n",
      "Starting iterations...\n",
      "Run 4, iteration: 1/100, moves: 0, cost: 961.0\n",
      "Init: initializing centroids\n",
      "Init: initializing clusters\n",
      "Starting iterations...\n",
      "Run 5, iteration: 1/100, moves: 0, cost: 1073.0\n",
      "Best run was number 1\n"
     ]
    },
    {
     "data": {
      "text/plain": [
       "<matplotlib.colorbar.Colorbar at 0x2058681c780>"
      ]
     },
     "execution_count": 27,
     "metadata": {},
     "output_type": "execute_result"
    },
    {
     "data": {
      "image/png": "[encoded data removed]",
      "text/plain": [
       "<Figure size 432x288 with 2 Axes>"
      ]
     },
     "metadata": {
      "needs_background": "light"
     },
     "output_type": "display_data"
    }
   ],
   "source": [
    "# kmodes clustering for movies vs age\n",
    "from kmodes.kmodes import KModes\n",
    "\n",
    "data=pd.DataFrame({'Movies':df['Movies'],'Age':df['Age']})\n",
    "\n",
    "km=KModes(n_clusters=2,init='Huang',n_init=5,verbose=1)  #runns for 5 iterations and classifies into 2 clusters\n",
    "clusters=km.fit_predict(data)\n",
    "fig=plt.figure()\n",
    "\n",
    "ax=fig.add_subplot(111)\n",
    "scatter=ax.scatter(data['Age'],data['Movies'],c=clusters,s=50)\n",
    "plt.colorbar(scatter)"
   ]
  },
  {
   "cell_type": "code",
   "execution_count": 28,
   "metadata": {},
   "outputs": [
    {
     "name": "stdout",
     "output_type": "stream",
     "text": [
      "Init: initializing centroids\n",
      "Init: initializing clusters\n",
      "Starting iterations...\n",
      "Run 1, iteration: 1/100, moves: 0, cost: 1353.0\n",
      "Init: initializing centroids\n",
      "Init: initializing clusters\n",
      "Starting iterations...\n",
      "Run 2, iteration: 1/100, moves: 37, cost: 1270.0\n",
      "Run 2, iteration: 2/100, moves: 0, cost: 1270.0\n",
      "Init: initializing centroids\n",
      "Init: initializing clusters\n",
      "Starting iterations...\n",
      "Run 3, iteration: 1/100, moves: 0, cost: 1256.0\n",
      "Init: initializing centroids\n",
      "Init: initializing clusters\n",
      "Starting iterations...\n",
      "Run 4, iteration: 1/100, moves: 70, cost: 1225.0\n",
      "Run 4, iteration: 2/100, moves: 0, cost: 1225.0\n",
      "Init: initializing centroids\n",
      "Init: initializing clusters\n",
      "Starting iterations...\n",
      "Run 5, iteration: 1/100, moves: 132, cost: 1270.0\n",
      "Run 5, iteration: 2/100, moves: 0, cost: 1270.0\n",
      "Best run was number 4\n"
     ]
    },
    {
     "data": {
      "text/plain": [
       "<matplotlib.colorbar.Colorbar at 0x205868e96d8>"
      ]
     },
     "execution_count": 28,
     "metadata": {},
     "output_type": "execute_result"
    },
    {
     "data": {
      "image/png": "[encoded data removed]",
      "text/plain": [
       "<Figure size 432x288 with 2 Axes>"
      ]
     },
     "metadata": {
      "needs_background": "light"
     },
     "output_type": "display_data"
    }
   ],
   "source": [
    "data1=pd.DataFrame({'Horror':df['Horror'],'Age':df['Age']})\n",
    "\n",
    "km=KModes(n_clusters=2,init='Huang',n_init=5,verbose=1)  #runns for 5 iterations and classifies into 2 clusters\n",
    "clusters=km.fit_predict(data1)\n",
    "fig=plt.figure()\n",
    "\n",
    "ax=fig.add_subplot(111)\n",
    "scatter=ax.scatter(data1['Age'],data1['Horror'],c=clusters,s=50)\n",
    "plt.colorbar(scatter)"
   ]
  },
  {
   "cell_type": "code",
   "execution_count": 30,
   "metadata": {},
   "outputs": [],
   "source": [
    "#K-Modes is done mainly for categorical data. Since we have categorical data (in the form of reviews), we use K-Modes.\n",
    "#From both the above graphs, we can see that K-Modes doesn't give a clear idea of how the data is grouped. Clustering based on\n",
    "#age doesn't give us well defined clusters. Hence, we can say that clustering is not a good idea for the given data."
   ]
  },
  {
   "cell_type": "code",
   "execution_count": null,
   "metadata": {},
   "outputs": [],
   "source": []
  }
 ],
 "metadata": {
  "kernelspec": {
   "display_name": "Python 3",
   "language": "python",
   "name": "python3"
  },
  "language_info": {
   "codemirror_mode": {
    "name": "ipython",
    "version": 3
   },
   "file_extension": ".py",
   "mimetype": "text/x-python",
   "name": "python",
   "nbconvert_exporter": "python",
   "pygments_lexer": "ipython3",
   "version": "3.6.8"
  }
 },
 "nbformat": 4,
 "nbformat_minor": 2
}
