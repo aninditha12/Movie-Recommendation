{
 "cells": [
  {
   "cell_type": "code",
   "execution_count": null,
   "metadata": {},
   "outputs": [],
   "source": [
    "# agglomerative clustering based on centroid distance\n",
    "from kmodes.kmodes import KModes\n",
    "# select the required columns\n",
    "per = pd.DataFrame(np.c_[df.iloc[:,31:73]])\n",
    "#kmodes clustering with initial cluster as 500\n",
    "km = KModes(n_clusters=500,max_iter=1000,init='Huang',n_init=2,\n",
    "            n_jobs=-1)\n",
    "\n",
    "m1 = km.fit(per)\n",
    "#print the cost of clustering \n",
    "m1.cost_"
   ]
  },
  {
   "cell_type": "code",
   "execution_count": null,
   "metadata": {},
   "outputs": [],
   "source": [
    "# reduce the clusters gradually till the cost is minimized\n",
    "mdl1 = m1.cluster_centroids_\n",
    "km1 = KModes(n_clusters=250,max_iter=1000,init='Huang',n_init=2,\n",
    "            n_jobs=-1)\n",
    "\n",
    "m2 = km1.fit(mdl1)\n",
    "#print(m2.cluster_centroids_)\n",
    "m2.cost_"
   ]
  },
  {
   "cell_type": "code",
   "execution_count": null,
   "metadata": {},
   "outputs": [],
   "source": [
    "mdl2 = m2.cluster_centroids_\n",
    "km2 = KModes(n_clusters=125,max_iter=1000,init='Huang',n_init=2,\n",
    "            n_jobs=-1)\n",
    "\n",
    "m3= km2.fit(mdl2)\n",
    "#print(m3.cluster_centroids_)\n",
    "m3.cost_"
   ]
  },
  {
   "cell_type": "code",
   "execution_count": null,
   "metadata": {},
   "outputs": [],
   "source": [
    "mdl3 = m3.cluster_centroids_\n",
    "km3 = KModes(n_clusters=62,max_iter=1000,init='Huang',n_init=2,\n",
    "            n_jobs=-1)\n",
    "\n",
    "m4= km3.fit(mdl3)\n",
    "#print(m4.cluster_centroids_)\n",
    "m4.cost_"
   ]
  },
  {
   "cell_type": "code",
   "execution_count": null,
   "metadata": {},
   "outputs": [],
   "source": [
    "mdl4 = m4.cluster_centroids_\n",
    "km4 = KModes(n_clusters=31,max_iter=1000,init='Huang',n_init=2,\n",
    "            n_jobs=-1)\n",
    "\n",
    "m5 = km4.fit(mdl4)\n",
    "#print(m5.cluster_centroids_)\n",
    "m5.cost_"
   ]
  },
  {
   "cell_type": "code",
   "execution_count": null,
   "metadata": {},
   "outputs": [],
   "source": [
    "mdl5 = m5.cluster_centroids_\n",
    "km5 = KModes(n_clusters=15,max_iter=1000,init='Huang',n_init=2,\n",
    "            n_jobs=-1)\n",
    "\n",
    "m6 = km5.fit(mdl5)\n",
    "#print(m6.cluster_centroids_)\n",
    "m6.cost_"
   ]
  },
  {
   "cell_type": "code",
   "execution_count": null,
   "metadata": {},
   "outputs": [],
   "source": [
    "mdl6 = m6.cluster_centroids_\n",
    "km6 = KModes(n_clusters=10,max_iter=1000,init='Cao',n_init=2,\n",
    "            n_jobs=-1)\n",
    "\n",
    "m7 = km6.fit(mdl6)\n",
    "#print(m7.cluster_centroids_)\n",
    "m7.cost_"
   ]
  },
  {
   "cell_type": "code",
   "execution_count": null,
   "metadata": {},
   "outputs": [],
   "source": [
    "mdl7 = m7.cluster_centroids_\n",
    "km7 = KModes(n_clusters=8,max_iter=1000,init='Cao',n_init=2,\n",
    "            n_jobs=-1)\n",
    "\n",
    "m8 = km7.fit(mdl7)\n",
    "mfin_clust=m8.cluster_centroids_\n",
    "print(m8.cost_)"
   ]
  },
  {
   "cell_type": "code",
   "execution_count": null,
   "metadata": {},
   "outputs": [],
   "source": [
    "# The min cost is obtained when number of clusters = 8\n",
    "mfin=km7.fit_predict(per)\n",
    "fin=pd.DataFrame(mfin)\n",
    "print(mfin_clust)\n",
    "print('Somebody who likes socializing, spends a lot of time on the internet. (Hence might go out often in a car.)')\n",
    "print('In general, people who like learning foreign languages aren\\'t afraid of public speaking.')\n",
    "print('In general, people who are scared of dangerous dogs do not have pets.')\n",
    "print('Youth in Slovakia do not prefer any trivial educational subjects like Mathematics, Biology, History, etc.')\n",
    "print('In this new era of internet and youth addicted to it, extra hobbies and interest in studies is fading away.')\n"
   ]
  },
  {
   "cell_type": "code",
   "execution_count": null,
   "metadata": {},
   "outputs": [],
   "source": [
    "# select the required columns\n",
    "df1=df.iloc[:,20:73]\n",
    "# add a new column which has the final classification\n",
    "df1['clusters']=mfin\n",
    "# In order to find the similarity between the users, we group the users who belong to the same cluster\n",
    "df_fin=df1.groupby(['clusters'])\n"
   ]
  },
  {
   "cell_type": "code",
   "execution_count": null,
   "metadata": {},
   "outputs": [],
   "source": [
    "fin_0=df_fin.get_group(0)\n",
    "fin_1=df_fin.get_group(1)\n",
    "fin_2=df_fin.get_group(2)\n",
    "fin_3=df_fin.get_group(3)\n",
    "fin_4=df_fin.get_group(4)\n",
    "fin_5=df_fin.get_group(5)\n",
    "fin_6=df_fin.get_group(6)\n",
    "fin_7=df_fin.get_group(7)\n"
   ]
  },
  {
   "cell_type": "code",
   "execution_count": null,
   "metadata": {},
   "outputs": [],
   "source": [
    "#convert the centroids of a cluster into a list\n",
    "mfin_clust=list(mfin_clust)"
   ]
  }
 ],
 "metadata": {
  "kernelspec": {
   "display_name": "Python 3",
   "language": "python",
   "name": "python3"
  },
  "language_info": {
   "codemirror_mode": {
    "name": "ipython",
    "version": 3
   },
   "file_extension": ".py",
   "mimetype": "text/x-python",
   "name": "python",
   "nbconvert_exporter": "python",
   "pygments_lexer": "ipython3",
   "version": "3.6.5"
  }
 },
 "nbformat": 4,
 "nbformat_minor": 2
}
