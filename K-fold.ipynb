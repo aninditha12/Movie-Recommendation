{
 "cells": [
  {
   "cell_type": "code",
   "execution_count": 1,
   "metadata": {},
   "outputs": [],
   "source": [
    "#import the required libraries.\n",
    "import pandas as pd\n",
    "import numpy as np\n",
    "from numpy.linalg import norm\n",
    "import math\n",
    "import matplotlib.pyplot as plt\n",
    "from numpy import nanmedian\n",
    "import random\n",
    "from kmodes.kmodes import KModes\n",
    "from sklearn.model_selection import KFold\n",
    "from sklearn.model_selection import train_test_split\n",
    "from sklearn.metrics import mean_squared_error, r2_score\n",
    "from sklearn.linear_model import LinearRegression"
   ]
  },
  {
   "cell_type": "code",
   "execution_count": 2,
   "metadata": {},
   "outputs": [],
   "source": [
    "df = pd.read_csv(\"responses.csv\")"
   ]
  },
  {
   "cell_type": "code",
   "execution_count": 3,
   "metadata": {},
   "outputs": [],
   "source": [
    "#fill the nan values using the medians\n",
    "df = df.groupby(df.columns, axis = 1).transform(lambda x: x.fillna(x.median()))"
   ]
  },
  {
   "cell_type": "code",
   "execution_count": 4,
   "metadata": {},
   "outputs": [
    {
     "name": "stdout",
     "output_type": "stream",
     "text": [
      "{'Smoking': 8, 'Alcohol': 5, 'Punctuality': 2, 'Lying': 2, 'Achievements': 2, 'Gender': 6, 'Left - right handed': 3, 'Education': 1, 'Only child': 2, 'Village - town': 4, 'House - block of flats': 4}\n"
     ]
    }
   ],
   "source": [
    "#used to find the nan count of attributes\n",
    "def nancount(x):\n",
    "    count=0\n",
    "    a=df[x].isnull()\n",
    "    for val in a:\n",
    "        if(val == True):\n",
    "            count+=1\n",
    "    return count\n",
    "    \n",
    "counts={}\n",
    "for i in df.columns:\n",
    "    returnval=nancount(i)\n",
    "    if(returnval!=0):\n",
    "        counts[i]=nancount(i)\n",
    "print(counts)"
   ]
  },
  {
   "cell_type": "code",
   "execution_count": 5,
   "metadata": {},
   "outputs": [],
   "source": [
    "def replace(col):\n",
    "    #find the unique values\n",
    "    un=pd.unique(df[col])\n",
    "    j=1\n",
    "    #dictionary used to map the categorical variables\n",
    "    dict_1={}\n",
    "    for i in un[:-1]:\n",
    "        dict_1[i]=j\n",
    "        j+=1\n",
    "    # un[-1] has nan in it. Hence that must have a value of zero initially\n",
    "    dict_1[un[-1]]=0   \n",
    "    #print(dict_1)\n",
    "    x=[]\n",
    "    #list containing the integer values of the categorical variales\n",
    "    for index,row in df[col].iteritems():\n",
    "        x.append((dict_1[row])) \n",
    "    med=np.median(x)\n",
    "    #the zero valued rows are replaced with the median\n",
    "    for i in range (0,len(x)):\n",
    "        if(x[i]==0):\n",
    "            x[i]=int(med)\n",
    "    # assign it to the dataframe\n",
    "    df[col]=x\n",
    "    \n",
    "NaN_Col=['Smoking','Alcohol','Punctuality','Lying','Education']\n",
    "for i in NaN_Col:\n",
    "    replace(i)"
   ]
  },
  {
   "cell_type": "code",
   "execution_count": 6,
   "metadata": {},
   "outputs": [
    {
     "name": "stdout",
     "output_type": "stream",
     "text": [
      "{'Achievements': 2, 'Gender': 6, 'Left - right handed': 3, 'Only child': 2, 'Village - town': 4, 'House - block of flats': 4}\n"
     ]
    }
   ],
   "source": [
    "def nancount(x):\n",
    "    count=0\n",
    "    a=df[x].isnull()\n",
    "    for val in a:\n",
    "        if(val == True):\n",
    "            count+=1\n",
    "    return count\n",
    "    \n",
    "counts={}\n",
    "for i in df.columns:\n",
    "    returnval=nancount(i)\n",
    "    if(returnval!=0):\n",
    "        counts[i]=nancount(i)\n",
    "print(counts)"
   ]
  },
  {
   "cell_type": "code",
   "execution_count": 7,
   "metadata": {},
   "outputs": [
    {
     "name": "stdout",
     "output_type": "stream",
     "text": [
      "female    593\n",
      "male      411\n",
      "Name: Gender, dtype: int64\n",
      "59.06374501992032 40.93625498007968\n"
     ]
    },
    {
     "data": {
      "image/png": "[encoded data removed]",
      "text/plain": [
       "<Figure size 432x288 with 1 Axes>"
      ]
     },
     "metadata": {},
     "output_type": "display_data"
    }
   ],
   "source": [
    "valcount=df.Gender.value_counts()\n",
    "print(valcount)\n",
    "noperc=(valcount['female']/(valcount['male']+valcount['female']))*100\n",
    "yesperc=(valcount['male']/(valcount['male']+valcount['female']))*100\n",
    "print(noperc,yesperc)\n",
    "\n",
    "plt.pie(valcount,labels=['female','male'], autopct='%1.0f%%')\n",
    "plt.show()"
   ]
  },
  {
   "cell_type": "code",
   "execution_count": 8,
   "metadata": {},
   "outputs": [
    {
     "name": "stderr",
     "output_type": "stream",
     "text": [
      "C:\\Users\\anind\\Anaconda3\\lib\\site-packages\\pandas\\core\\indexing.py:190: SettingWithCopyWarning: \n",
      "A value is trying to be set on a copy of a slice from a DataFrame\n",
      "\n",
      "See the caveats in the documentation: http://pandas.pydata.org/pandas-docs/stable/indexing.html#indexing-view-versus-copy\n",
      "  self._setitem_with_indexer(indexer, value)\n"
     ]
    }
   ],
   "source": [
    "for index,row in df.Gender.iteritems():\n",
    "    if(isinstance(row,float)):\n",
    "        x=random.randint(1,100)\n",
    "        if (x>=1 and x<=60):\n",
    "            df.Gender.loc[index]='female'\n",
    "        else:\n",
    "            df.Gender.loc[index]='male'"
   ]
  },
  {
   "cell_type": "code",
   "execution_count": 9,
   "metadata": {},
   "outputs": [
    {
     "name": "stdout",
     "output_type": "stream",
     "text": [
      "89.97020854021847 10.02979145978153\n"
     ]
    },
    {
     "data": {
      "image/png": "[encoded data removed]",
      "text/plain": [
       "<Figure size 432x288 with 1 Axes>"
      ]
     },
     "metadata": {},
     "output_type": "display_data"
    }
   ],
   "source": [
    "valcount=df['Left - right handed'].value_counts()\n",
    "noperc=(valcount['right handed']/(valcount['right handed']+valcount['left handed']))*100\n",
    "yesperc=(valcount['left handed']/(valcount['right handed']+valcount['left handed']))*100\n",
    "print(noperc,yesperc)\n",
    "\n",
    "plt.pie(valcount,labels=['right handed','left handed'], autopct='%1.0f%%')\n",
    "plt.show()"
   ]
  },
  {
   "cell_type": "code",
   "execution_count": 10,
   "metadata": {},
   "outputs": [],
   "source": [
    "for index,row in df['Left - right handed'].iteritems():\n",
    "    if(isinstance(row,float)):\n",
    "        x=random.randint(1,100)\n",
    "        if (x>=1 and x<=90):\n",
    "            df['Left - right handed'].loc[index]='right handed'\n",
    "        else:\n",
    "            df['Left - right handed'].loc[index]='left handed'"
   ]
  },
  {
   "cell_type": "code",
   "execution_count": 11,
   "metadata": {},
   "outputs": [
    {
     "name": "stdout",
     "output_type": "stream",
     "text": [
      "74.8015873015873 25.198412698412696\n"
     ]
    },
    {
     "data": {
      "image/png": "[encoded data removed]",
      "text/plain": [
       "<Figure size 432x288 with 1 Axes>"
      ]
     },
     "metadata": {},
     "output_type": "display_data"
    }
   ],
   "source": [
    "valcount=df['Only child'].value_counts()\n",
    "noperc=(valcount['no']/(valcount['yes']+valcount['no']))*100\n",
    "yesperc=(valcount['yes']/(valcount['yes']+valcount['no']))*100\n",
    "print(noperc,yesperc)\n",
    "\n",
    "plt.pie(valcount,labels=['no','yes'], autopct='%1.0f%%')\n",
    "plt.show()"
   ]
  },
  {
   "cell_type": "code",
   "execution_count": 12,
   "metadata": {},
   "outputs": [],
   "source": [
    "for index,row in df['Only child'].iteritems():\n",
    "    if(isinstance(row,float)):\n",
    "        x=random.randint(1,100)\n",
    "        if (x>=1 and x<=75):\n",
    "            df['Only child'].loc[index]='no'\n",
    "        else:\n",
    "            df['Only child'].loc[index]='yes'"
   ]
  },
  {
   "cell_type": "code",
   "execution_count": 13,
   "metadata": {},
   "outputs": [
    {
     "name": "stdout",
     "output_type": "stream",
     "text": [
      "29.721669980119287 70.27833001988071\n"
     ]
    },
    {
     "data": {
      "image/png": "[encoded data removed]",
      "text/plain": [
       "<Figure size 432x288 with 1 Axes>"
      ]
     },
     "metadata": {},
     "output_type": "display_data"
    }
   ],
   "source": [
    "valcount=df['Village - town'].value_counts()\n",
    "noperc=(valcount['village']/(valcount['village']+valcount['city']))*100\n",
    "yesperc=(valcount['city']/(valcount['village']+valcount['city']))*100\n",
    "print(noperc,yesperc)\n",
    "\n",
    "plt.pie(valcount,labels=['City','Village'], autopct='%1.0f%%')\n",
    "plt.show()"
   ]
  },
  {
   "cell_type": "code",
   "execution_count": 14,
   "metadata": {},
   "outputs": [],
   "source": [
    "for index,row in df['Village - town'].iteritems():\n",
    "    if(isinstance(row,float)):\n",
    "        x=random.randint(1,100)\n",
    "        if (x>=1 and x<=70):\n",
    "            df['Village - town'].loc[index]='city'\n",
    "        else:\n",
    "            df['Village - town'].loc[index]='village'"
   ]
  },
  {
   "cell_type": "code",
   "execution_count": 15,
   "metadata": {},
   "outputs": [
    {
     "name": "stdout",
     "output_type": "stream",
     "text": [
      "40.85487077534791 59.14512922465208\n"
     ]
    },
    {
     "data": {
      "image/png": "[encoded data removed]",
      "text/plain": [
       "<Figure size 432x288 with 1 Axes>"
      ]
     },
     "metadata": {},
     "output_type": "display_data"
    }
   ],
   "source": [
    "valcount=df['House - block of flats'].value_counts()\n",
    "noperc=(valcount['house/bungalow']/(valcount['house/bungalow']+valcount['block of flats']))*100\n",
    "yesperc=(valcount['block of flats']/(valcount['house/bungalow']+valcount['block of flats']))*100\n",
    "print(noperc,yesperc)\n",
    "\n",
    "plt.pie(valcount,labels=['Flat','House'], autopct='%1.0f%%')\n",
    "plt.show()"
   ]
  },
  {
   "cell_type": "code",
   "execution_count": 16,
   "metadata": {},
   "outputs": [],
   "source": [
    "for index,row in df['House - block of flats'].iteritems():\n",
    "    if(isinstance(row,float)):\n",
    "        x=random.randint(1,100)\n",
    "        if (x>=1 and x<=60):\n",
    "            df['House - block of flats'].loc[index]='block of flats'\n",
    "        else:\n",
    "            df['House - block of flats'].loc[index]='house/bungalow'"
   ]
  },
  {
   "cell_type": "code",
   "execution_count": 17,
   "metadata": {},
   "outputs": [
    {
     "name": "stdout",
     "output_type": "stream",
     "text": [
      "{'Achievements': 2}\n"
     ]
    }
   ],
   "source": [
    "def nancount(x):\n",
    "    count=0\n",
    "    a=df[x].isnull()\n",
    "    for val in a:\n",
    "        if(val == True):\n",
    "            count+=1\n",
    "    return count\n",
    "    \n",
    "counts={}\n",
    "for i in df.columns:\n",
    "    returnval=nancount(i)\n",
    "    if(returnval!=0):\n",
    "        counts[i]=nancount(i)\n",
    "print(counts)"
   ]
  },
  {
   "cell_type": "code",
   "execution_count": 18,
   "metadata": {},
   "outputs": [],
   "source": [
    "# replacing 1 and 2 for binary variables\n",
    "def replace1(col):\n",
    "    un=pd.unique(df[col])\n",
    "    j=1\n",
    "    dict_1={}\n",
    "    for i in un:\n",
    "        dict_1[i]=j\n",
    "        j+=1  \n",
    "    #print(dict_1)\n",
    "    x=[]\n",
    "    for index,row in df[col].iteritems():\n",
    "        x.append((dict_1[row])) \n",
    "    df[col]=x\n",
    "    \n",
    "NaN_Col=['Gender', 'Left - right handed', 'Only child', 'Village - town', 'House - block of flats']\n",
    "for i in NaN_Col:\n",
    "    replace1(i)"
   ]
  },
  {
   "cell_type": "code",
   "execution_count": 19,
   "metadata": {},
   "outputs": [],
   "source": [
    "df = df.groupby(df.columns, axis = 1).transform(lambda x: x.fillna(x.median()))"
   ]
  },
  {
   "cell_type": "code",
   "execution_count": 20,
   "metadata": {},
   "outputs": [
    {
     "name": "stderr",
     "output_type": "stream",
     "text": [
      "C:\\Users\\anind\\Anaconda3\\lib\\site-packages\\pandas\\core\\indexing.py:190: SettingWithCopyWarning: \n",
      "A value is trying to be set on a copy of a slice from a DataFrame\n",
      "\n",
      "See the caveats in the documentation: http://pandas.pydata.org/pandas-docs/stable/indexing.html#indexing-view-versus-copy\n",
      "  self._setitem_with_indexer(indexer, value)\n"
     ]
    }
   ],
   "source": [
    "med1=np.nanmedian(df.Achievements)\n",
    "for index,row in df.Achievements.iteritems():\n",
    "    a=df.Achievements.isnull()\n",
    "    for val in a:\n",
    "        if(val == True):\n",
    "            df.Achievements.loc[index]=med1           "
   ]
  },
  {
   "cell_type": "code",
   "execution_count": 21,
   "metadata": {},
   "outputs": [
    {
     "name": "stdout",
     "output_type": "stream",
     "text": [
      "{}\n"
     ]
    }
   ],
   "source": [
    "def nancount(x):\n",
    "    count=0\n",
    "    a=df[x].isnull()\n",
    "    for val in a:\n",
    "        if(val == True):\n",
    "            count+=1\n",
    "    return count\n",
    "    \n",
    "counts={}\n",
    "for i in df.columns:\n",
    "    returnval=nancount(i)\n",
    "    if(returnval!=0):\n",
    "        counts[i]=nancount(i)\n",
    "print(counts)"
   ]
  },
  {
   "cell_type": "code",
   "execution_count": 22,
   "metadata": {},
   "outputs": [
    {
     "name": "stdout",
     "output_type": "stream",
     "text": [
      "0.7677024984230187\n",
      "0.08716886647295108\n"
     ]
    }
   ],
   "source": [
    "#multiple linear regression\n",
    "X = pd.DataFrame(np.c_[df.iloc[:,31:73]])\n",
    "y = df['Comedy']\n",
    "\n",
    "X_train, X_test, y_train, y_test = train_test_split(X, y, test_size = 0.2, random_state=9)\n",
    "\n",
    "lin_reg_mod = LinearRegression()\n",
    "\n",
    "lin_reg_mod.fit(X_train, y_train)\n",
    "\n",
    "pred = lin_reg_mod.predict(X_test)\n",
    "\n",
    "test_set_rmse = (np.sqrt(mean_squared_error(y_test, pred)))\n",
    "\n",
    "test_set_r2 = r2_score(y_test, pred)\n",
    "\n",
    "print(test_set_rmse)\n",
    "print(test_set_r2)\n"
   ]
  },
  {
   "cell_type": "code",
   "execution_count": 23,
   "metadata": {},
   "outputs": [],
   "source": [
    "######################################################################################################################"
   ]
  },
  {
   "cell_type": "code",
   "execution_count": 4,
   "metadata": {},
   "outputs": [],
   "source": [
    "# function to calculate the cosine similarity\n",
    "def sim(a,b):\n",
    "    cos_sim = np.dot(a, b)/(norm(a)*norm(b))\n",
    "    return cos_sim"
   ]
  },
  {
   "cell_type": "code",
   "execution_count": 5,
   "metadata": {},
   "outputs": [],
   "source": [
    "# agglomerative clustering based on centroid distance\n",
    "def trainModelAndValidate(train,test):\n",
    "    count=0\n",
    "    # select the required columns\n",
    "    per = pd.DataFrame(np.c_[train.iloc[:,31:73]])\n",
    "    #kmodes clustering with initial cluster as 500\n",
    "    km = KModes(n_clusters=500,max_iter=1000,init='Huang',n_init=2,\n",
    "                n_jobs=-1)\n",
    "    print(\"Cost of K clusters\")\n",
    "    m1 = km.fit(per)\n",
    "    #print the cost of clustering \n",
    "    print(\"500 clusters:\",m1.cost_)\n",
    "    \n",
    "    # reduce the clusters gradually till the cost is minimized\n",
    "    mdl1 = m1.cluster_centroids_\n",
    "    km1 = KModes(n_clusters=250,max_iter=1000,init='Huang',n_init=2,n_jobs=-1)\n",
    "    m2 = km1.fit(mdl1)\n",
    "    #print(m2.cluster_centroids_)\n",
    "    print(\"250 clusters:\",m2.cost_)\n",
    "    \n",
    "    mdl2 = m2.cluster_centroids_\n",
    "    km2 = KModes(n_clusters=125,max_iter=1000,init='Huang',n_init=2,n_jobs=-1)\n",
    "    m3= km2.fit(mdl2)\n",
    "    #print(m3.cluster_centroids_)\n",
    "    print(\"125 clusters:\",m3.cost_)\n",
    "    \n",
    "    mdl3 = m3.cluster_centroids_\n",
    "    km3 = KModes(n_clusters=62,max_iter=1000,init='Huang',n_init=2,n_jobs=-1)\n",
    "    m4= km3.fit(mdl3)\n",
    "    #print(m4.cluster_centroids_)\n",
    "    print(\"62 clusters:\",m4.cost_)\n",
    "\n",
    "    mdl4 = m4.cluster_centroids_\n",
    "    km4 = KModes(n_clusters=31,max_iter=1000,init='Huang',n_init=2,n_jobs=-1)\n",
    "    m5 = km4.fit(mdl4)\n",
    "    #print(m5.cluster_centroids_)\n",
    "    print(\"31 clusters:\",m5.cost_)\n",
    "\n",
    "    mdl5 = m5.cluster_centroids_\n",
    "    km5 = KModes(n_clusters=15,max_iter=1000,init='Huang',n_init=2,n_jobs=-1)\n",
    "    m6 = km5.fit(mdl5)\n",
    "    #print(m6.cluster_centroids_)\n",
    "    print(\"15 clusters:\",m6.cost_)\n",
    "    \n",
    "    mdl6 = m6.cluster_centroids_\n",
    "    km6 = KModes(n_clusters=10,max_iter=1000,init='Cao',n_init=2,n_jobs=-1)\n",
    "    m7 = km6.fit(mdl6)\n",
    "    #print(m7.cluster_centroids_)\n",
    "    print(\"10 clusters:\",m7.cost_)\n",
    "    \n",
    "    mdl7 = m7.cluster_centroids_\n",
    "    km7 = KModes(n_clusters=8,max_iter=1000,init='Cao',n_init=2,n_jobs=-1)\n",
    "    m8 = km7.fit(mdl7)\n",
    "    mfin_clust=m8.cluster_centroids_\n",
    "    print(\"8 clusters:\",m8.cost_)\n",
    "    print()\n",
    "    \n",
    "    # The min cost is obtained when number of clusters = 8\n",
    "    mfin=km7.fit_predict(per)\n",
    "    fin=pd.DataFrame(mfin)\n",
    "    #print(mfin_clust)\n",
    "    \n",
    "    \n",
    "    # select the required columns\n",
    "    df1=train.iloc[:,20:73]\n",
    "    # add a new column which has the final classification\n",
    "    df1['clusters']=mfin\n",
    "    # In order to find the similarity between the users, we group the users who belong to the same cluster\n",
    "    df_fin=df1.groupby(['clusters'])\n",
    "    \n",
    "    fin_0=df_fin.get_group(0)\n",
    "    #print(np.std(fin_0['Horror']))\n",
    "\n",
    "    fin_1=df_fin.get_group(1)\n",
    "    #print(np.std(fin_1['Horror']))\n",
    "\n",
    "    fin_2=df_fin.get_group(2)\n",
    "\n",
    "    fin_3=df_fin.get_group(3)\n",
    "\n",
    "    fin_4=df_fin.get_group(4)\n",
    "\n",
    "    fin_5=df_fin.get_group(5)\n",
    "\n",
    "    fin_6=df_fin.get_group(6)\n",
    "\n",
    "    fin_7=df_fin.get_group(7)\n",
    "\n",
    "    #convert the centroids of a cluster into a list\n",
    "    mfin_clust=list(mfin_clust)\n",
    "    \n",
    "    for i in range((test.shape[0])):\n",
    "        row_hobby=list(df.iloc[i,31:73])\n",
    "        row_genre=list(df.iloc[i,20:31])\n",
    "        \n",
    "        # Euclidian distance between y and the centroid of each cluster\n",
    "        # The calculated distances are stored in a dictionary with the key = cluster numbers\n",
    "        distance={}\n",
    "\n",
    "        for i in range(0,8):\n",
    "            distance[i]=(math.sqrt(sum([(a - b) ** 2 for a, b in zip(mfin_clust[i], row_hobby)])))\n",
    "        # minimum distance is calculated using the values of the dictionary \n",
    "        min_clust=min(distance, key=distance.get)\n",
    "        #the user is classified into the cluster\n",
    "        df_clust=df_fin.get_group(min_clust)\n",
    "        #similarity for y and df_clust\n",
    "        # drop the columns containing movie genre as the similarity between the users is calculated using the hobbies preferences\n",
    "        df_clust2=df_clust.drop(['Horror','Romantic','Comedy','Thriller','Sci-fi','War','Fantasy/Fairy tales','Western','Animated',\n",
    "                         'Documentary','Action'],axis=1)\n",
    "        # insert a new column called index as each user needs to have one unique identity\n",
    "        ind=list(range(0,len(df_clust2)))\n",
    "        df_clust2.insert(0,'Index',ind)\n",
    "        \n",
    "        # add the index column to the dataframe\n",
    "        df_clust2['Index']\n",
    "        # dictinary to store the user-user similarity\n",
    "        xz_dict={}\n",
    "        for j in range(0,len(df_clust2)):\n",
    "            xz=[]\n",
    "            # the list contains the column header and the preferences of the jth row\n",
    "            xz=list(df_clust2.iloc[j,:].items())\n",
    "            #print(xz)\n",
    "            xz1=[]\n",
    "            # append only the preferences in a new list\n",
    "            for i in range(1,43):\n",
    "                xz1.append(xz[i][1])\n",
    "            #print(xz1)\n",
    "            simi=sim(xz1,row_hobby)\n",
    "            #store the user similarity in a dictionary\n",
    "            xz_dict[j]=simi\n",
    "        # find 5 users who are most similar to the new user\n",
    "        top_5=sorted(xz_dict, key=xz_dict.get, reverse=True)[:5]\n",
    "        \n",
    "        \n",
    "        #dictionary used to store the rating for each genre based on user similarities\n",
    "        fin_rec={}\n",
    "        actual={}\n",
    "        # for each genre\n",
    "        for k in range(1,12):\n",
    "            actual[k]=row_genre[k-1]\n",
    "            user_rating=[]\n",
    "            sum_sim=0\n",
    "            rec=0\n",
    "            # apped the ratings of the similar users into a list for a particular genre\n",
    "            for i in top_5:\n",
    "                user_rating.append(df_clust.iloc[i,k:k+1].item())\n",
    "            # calculate the rating of the new user based on user-user similarity\n",
    "            for i,j in zip(user_rating,xz_dict):\n",
    "                rec=rec+(i*xz_dict[j])\n",
    "                sum_sim=sum_sim+xz_dict[j]\n",
    "            # store the rating in the dictionary created\n",
    "            fin_rec[k]=rec/sum_sim\n",
    "        #select the top 3 genres based on rating\n",
    "        top_3=sorted(fin_rec, key=fin_rec.get, reverse=True)[:3]\n",
    "        top_3_actual=sorted(actual, key=actual.get, reverse=True)[:3]\n",
    "        # Thus recommend the genres to the user.\n",
    "        for l in top_3:\n",
    "            if l in top_3_actual:\n",
    "                count+=1\n",
    "    print(\"Accuracy\",count/(3*test.shape[0]))\n",
    "    return count/(3*test.shape[0])\n"
   ]
  },
  {
   "cell_type": "code",
   "execution_count": 7,
   "metadata": {},
   "outputs": [
    {
     "name": "stdout",
     "output_type": "stream",
     "text": [
      "______________________________________________\n",
      "Fold1\n",
      "Cost of K clusters\n",
      "500 clusters: 6434.0\n",
      "250 clusters: 5069.0\n",
      "125 clusters: 2443.0\n",
      "62 clusters: 1135.0\n",
      "31 clusters: 510.0\n",
      "15 clusters: 217.0\n",
      "10 clusters: 41.0\n",
      "8 clusters: 11.0\n",
      "\n",
      "Accuracy 0.3316831683168317\n",
      "______________________________________________\n",
      "Fold2\n",
      "Cost of K clusters\n",
      "500 clusters: 6411.0\n",
      "250 clusters: 5102.0\n",
      "125 clusters: 2416.0\n",
      "62 clusters: 1134.0\n",
      "31 clusters: 479.0\n",
      "15 clusters: 201.0\n",
      "10 clusters: 49.0\n",
      "8 clusters: 17.0\n",
      "\n",
      "Accuracy 0.2871287128712871\n",
      "______________________________________________\n",
      "Fold3\n",
      "Cost of K clusters\n",
      "500 clusters: 6424.0\n",
      "250 clusters: 5075.0\n",
      "125 clusters: 2430.0\n",
      "62 clusters: 1119.0\n",
      "31 clusters: 497.0\n",
      "15 clusters: 225.0\n",
      "10 clusters: 47.0\n",
      "8 clusters: 15.0\n",
      "\n",
      "Accuracy 0.3333333333333333\n",
      "______________________________________________\n",
      "Fold4\n",
      "Cost of K clusters\n",
      "500 clusters: 6302.0\n",
      "250 clusters: 5160.0\n",
      "125 clusters: 2497.0\n",
      "62 clusters: 1170.0\n",
      "31 clusters: 535.0\n",
      "15 clusters: 223.0\n",
      "10 clusters: 44.0\n",
      "8 clusters: 10.0\n",
      "\n",
      "Accuracy 0.31518151815181517\n",
      "______________________________________________\n",
      "Fold5\n",
      "Cost of K clusters\n",
      "500 clusters: 6345.0\n",
      "250 clusters: 5121.0\n",
      "125 clusters: 2511.0\n",
      "62 clusters: 1160.0\n",
      "31 clusters: 501.0\n",
      "15 clusters: 216.0\n",
      "10 clusters: 44.0\n",
      "8 clusters: 14.0\n",
      "\n",
      "Accuracy 0.3481848184818482\n",
      "______________________________________________\n",
      "Accuracy of the model is 32.31023102310231 %\n"
     ]
    }
   ],
   "source": [
    "kf = KFold(5, True, 1)\n",
    "i=1\n",
    "list_accuracy=[]\n",
    "for train, test in kf.split(df):\n",
    "    print(\"______________________________________________\")\n",
    "    print(\"Fold\"+str(i))\n",
    "    i+=1\n",
    "    list_accuracy.append(trainModelAndValidate(df.iloc[train],df.iloc[test]))\n",
    "print(\"______________________________________________\")\n",
    "print(\"Accuracy of the model is\",(sum(list_accuracy)/len(list_accuracy))*100,\"%\")"
   ]
  },
  {
   "cell_type": "code",
   "execution_count": null,
   "metadata": {},
   "outputs": [],
   "source": []
  }
 ],
 "metadata": {
  "kernelspec": {
   "display_name": "Python 3",
   "language": "python",
   "name": "python3"
  },
  "language_info": {
   "codemirror_mode": {
    "name": "ipython",
    "version": 3
   },
   "file_extension": ".py",
   "mimetype": "text/x-python",
   "name": "python",
   "nbconvert_exporter": "python",
   "pygments_lexer": "ipython3",
   "version": "3.7.3"
  }
 },
 "nbformat": 4,
 "nbformat_minor": 2
}
